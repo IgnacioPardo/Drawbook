{
 "cells": [
  {
   "cell_type": "code",
   "execution_count": 4,
   "id": "5a151052",
   "metadata": {},
   "outputs": [],
   "source": [
    "from excalidraw import _draw, load_drawings\n",
    "drawings_path = 'drawings/data.pickle'\n",
    "drawings = load_drawings(drawings_path)\n",
    "def draw(room):\n",
    "    _draw(drawings, room)"
   ]
  },
  {
   "cell_type": "code",
   "execution_count": 5,
   "id": "a9a9fa2e",
   "metadata": {},
   "outputs": [
    {
     "data": {
      "text/html": [
       "<style>@media print {.excalibtn { display: none }}</style><a class='excalibtn' href='https://excalidraw.com/#room=in7k2bzc2x8e1b6gqtuz,znrh7_5yz0lulm7m3_9i5o'><img src='https://img.shields.io/badge/Open%20in-%20Excalidraw-lightgrey'></a>"
      ],
      "text/plain": [
       "<IPython.core.display.HTML object>"
      ]
     },
     "metadata": {},
     "output_type": "display_data"
    },
    {
     "data": {
      "text/html": [
       "\n",
       "        <iframe\n",
       "            width=\"1000\"\n",
       "            height=\"600\"\n",
       "            src=\"https://excalidraw.com/#room=in7k2bzc2x8e1b6gqtuz,znrh7_5yz0lulm7m3_9i5o\"\n",
       "            frameborder=\"0\"\n",
       "            allowfullscreen\n",
       "            \n",
       "        ></iframe>\n",
       "        "
      ],
      "text/plain": [
       "<IPython.lib.display.IFrame at 0x11330d3a0>"
      ]
     },
     "metadata": {},
     "output_type": "display_data"
    }
   ],
   "source": [
    "draw('test')"
   ]
  },
  {
   "cell_type": "code",
   "execution_count": null,
   "id": "3867f2ee",
   "metadata": {},
   "outputs": [],
   "source": []
  }
 ],
 "metadata": {
  "kernelspec": {
   "display_name": "Python 3",
   "language": "python",
   "name": "python3"
  },
  "language_info": {
   "codemirror_mode": {
    "name": "ipython",
    "version": 3
   },
   "file_extension": ".py",
   "mimetype": "text/x-python",
   "name": "python",
   "nbconvert_exporter": "python",
   "pygments_lexer": "ipython3",
   "version": "3.9.1"
  },
  "vscode": {
   "interpreter": {
    "hash": "aee8b7b246df8f9039afb4144a1f6fd8d2ca17a180786b69acc140d282b71a49"
   }
  }
 },
 "nbformat": 4,
 "nbformat_minor": 5
}
